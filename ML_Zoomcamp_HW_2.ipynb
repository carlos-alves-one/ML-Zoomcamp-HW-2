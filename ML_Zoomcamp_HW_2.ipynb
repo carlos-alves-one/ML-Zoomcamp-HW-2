{
  "nbformat": 4,
  "nbformat_minor": 0,
  "metadata": {
    "colab": {
      "provenance": [],
      "collapsed_sections": [],
      "authorship_tag": "ABX9TyOkfeY3CslQeng5d7rufflf",
      "include_colab_link": true
    },
    "kernelspec": {
      "name": "python3",
      "display_name": "Python 3"
    },
    "language_info": {
      "name": "python"
    }
  },
  "cells": [
    {
      "cell_type": "markdown",
      "metadata": {
        "id": "view-in-github",
        "colab_type": "text"
      },
      "source": [
        "<a href=\"https://colab.research.google.com/github/carlos-alves-one/-ML-Zoomcamp-HW-2/blob/main/ML_Zoomcamp_HW_2.ipynb\" target=\"_parent\"><img src=\"https://colab.research.google.com/assets/colab-badge.svg\" alt=\"Open In Colab\"/></a>"
      ]
    },
    {
      "cell_type": "markdown",
      "source": [
        "## Machine Learning ZoomCamp - Homework 2 \n",
        "**Author.....: Carlos Manuel de Oliveira Alves**<br>\n",
        "**Created...: 16/09/2022**"
      ],
      "metadata": {
        "id": "xM2TsD6Ac2Mb"
      }
    },
    {
      "cell_type": "code",
      "execution_count": 61,
      "metadata": {
        "id": "to3c2XNDZ_i5"
      },
      "outputs": [],
      "source": [
        "# Import all necessay libraries that we will use in this homework\n",
        "%matplotlib inline\n",
        "\n",
        "import pandas as pd\n",
        "import numpy as np\n",
        "\n",
        "import matplotlib.pyplot as plt\n",
        "import seaborn as sns\n",
        "\n",
        "# Using this library it reduces some minor warnings\n",
        "# e.g. not having the newest version of numpy and python it will give the warning\n",
        "# using the parameter ignore it will ignore the warnings\n",
        "import warnings\n",
        "warnings.filterwarnings(\"ignore\")"
      ]
    },
    {
      "cell_type": "markdown",
      "source": [
        "##Load Data"
      ],
      "metadata": {
        "id": "8XH57TvbgLG-"
      }
    },
    {
      "cell_type": "code",
      "source": [
        "# Create list with the columns to be used with the dataset\n",
        "usecols = [\n",
        "    'latitude',\n",
        "    'longitude',\n",
        "    'housing_median_age',\n",
        "    'total_rooms',\n",
        "    'total_bedrooms',\n",
        "    'population',\n",
        "    'households',\n",
        "    'median_income',\n",
        "    'median_house_value'\n",
        "]\n",
        "\n",
        "# Getting the data for the homework\n",
        "!wget https://raw.githubusercontent.com/alexeygrigorev/datasets/master/housing.csv"
      ],
      "metadata": {
        "colab": {
          "base_uri": "https://localhost:8080/"
        },
        "id": "ggSz8AxQgDEo",
        "outputId": "d119ea1c-662f-4654-fd7b-c1855e2f9d9a"
      },
      "execution_count": 62,
      "outputs": [
        {
          "output_type": "stream",
          "name": "stdout",
          "text": [
            "--2022-09-18 11:25:54--  https://raw.githubusercontent.com/alexeygrigorev/datasets/master/housing.csv\n",
            "Resolving raw.githubusercontent.com (raw.githubusercontent.com)... 185.199.108.133, 185.199.109.133, 185.199.110.133, ...\n",
            "Connecting to raw.githubusercontent.com (raw.githubusercontent.com)|185.199.108.133|:443... connected.\n",
            "HTTP request sent, awaiting response... 200 OK\n",
            "Length: 1423529 (1.4M) [text/plain]\n",
            "Saving to: ‘housing.csv.2’\n",
            "\n",
            "housing.csv.2       100%[===================>]   1.36M  --.-KB/s    in 0.07s   \n",
            "\n",
            "2022-09-18 11:25:54 (19.8 MB/s) - ‘housing.csv.2’ saved [1423529/1423529]\n",
            "\n"
          ]
        }
      ]
    },
    {
      "cell_type": "code",
      "source": [
        "# Store only the features we need for this homework\n",
        "data = pd.read_csv('housing.csv', usecols=usecols)"
      ],
      "metadata": {
        "id": "NhwMZAFwhiSL"
      },
      "execution_count": 63,
      "outputs": []
    },
    {
      "cell_type": "code",
      "source": [
        "# Check total of rows and columns of the dataset\n",
        "print(data.shape)"
      ],
      "metadata": {
        "colab": {
          "base_uri": "https://localhost:8080/"
        },
        "id": "xeNGuRuok0Ed",
        "outputId": "7388754c-e35d-46a8-c88c-110ae9c8f892"
      },
      "execution_count": 64,
      "outputs": [
        {
          "output_type": "stream",
          "name": "stdout",
          "text": [
            "(20640, 9)\n"
          ]
        }
      ]
    },
    {
      "cell_type": "code",
      "source": [
        "# Check the first 10 rows of the dataset\n",
        "data.head(10)"
      ],
      "metadata": {
        "colab": {
          "base_uri": "https://localhost:8080/",
          "height": 407
        },
        "id": "BTNq3N8bmh9-",
        "outputId": "013977bf-3a50-4e1a-9f48-4ef5f5556a3a"
      },
      "execution_count": 65,
      "outputs": [
        {
          "output_type": "execute_result",
          "data": {
            "text/plain": [
              "   longitude  latitude  housing_median_age  total_rooms  total_bedrooms  \\\n",
              "0    -122.23     37.88                41.0        880.0           129.0   \n",
              "1    -122.22     37.86                21.0       7099.0          1106.0   \n",
              "2    -122.24     37.85                52.0       1467.0           190.0   \n",
              "3    -122.25     37.85                52.0       1274.0           235.0   \n",
              "4    -122.25     37.85                52.0       1627.0           280.0   \n",
              "5    -122.25     37.85                52.0        919.0           213.0   \n",
              "6    -122.25     37.84                52.0       2535.0           489.0   \n",
              "7    -122.25     37.84                52.0       3104.0           687.0   \n",
              "8    -122.26     37.84                42.0       2555.0           665.0   \n",
              "9    -122.25     37.84                52.0       3549.0           707.0   \n",
              "\n",
              "   population  households  median_income  median_house_value  \n",
              "0       322.0       126.0         8.3252            452600.0  \n",
              "1      2401.0      1138.0         8.3014            358500.0  \n",
              "2       496.0       177.0         7.2574            352100.0  \n",
              "3       558.0       219.0         5.6431            341300.0  \n",
              "4       565.0       259.0         3.8462            342200.0  \n",
              "5       413.0       193.0         4.0368            269700.0  \n",
              "6      1094.0       514.0         3.6591            299200.0  \n",
              "7      1157.0       647.0         3.1200            241400.0  \n",
              "8      1206.0       595.0         2.0804            226700.0  \n",
              "9      1551.0       714.0         3.6912            261100.0  "
            ],
            "text/html": [
              "\n",
              "  <div id=\"df-eedc768d-1de6-4389-bd76-9462761f1164\">\n",
              "    <div class=\"colab-df-container\">\n",
              "      <div>\n",
              "<style scoped>\n",
              "    .dataframe tbody tr th:only-of-type {\n",
              "        vertical-align: middle;\n",
              "    }\n",
              "\n",
              "    .dataframe tbody tr th {\n",
              "        vertical-align: top;\n",
              "    }\n",
              "\n",
              "    .dataframe thead th {\n",
              "        text-align: right;\n",
              "    }\n",
              "</style>\n",
              "<table border=\"1\" class=\"dataframe\">\n",
              "  <thead>\n",
              "    <tr style=\"text-align: right;\">\n",
              "      <th></th>\n",
              "      <th>longitude</th>\n",
              "      <th>latitude</th>\n",
              "      <th>housing_median_age</th>\n",
              "      <th>total_rooms</th>\n",
              "      <th>total_bedrooms</th>\n",
              "      <th>population</th>\n",
              "      <th>households</th>\n",
              "      <th>median_income</th>\n",
              "      <th>median_house_value</th>\n",
              "    </tr>\n",
              "  </thead>\n",
              "  <tbody>\n",
              "    <tr>\n",
              "      <th>0</th>\n",
              "      <td>-122.23</td>\n",
              "      <td>37.88</td>\n",
              "      <td>41.0</td>\n",
              "      <td>880.0</td>\n",
              "      <td>129.0</td>\n",
              "      <td>322.0</td>\n",
              "      <td>126.0</td>\n",
              "      <td>8.3252</td>\n",
              "      <td>452600.0</td>\n",
              "    </tr>\n",
              "    <tr>\n",
              "      <th>1</th>\n",
              "      <td>-122.22</td>\n",
              "      <td>37.86</td>\n",
              "      <td>21.0</td>\n",
              "      <td>7099.0</td>\n",
              "      <td>1106.0</td>\n",
              "      <td>2401.0</td>\n",
              "      <td>1138.0</td>\n",
              "      <td>8.3014</td>\n",
              "      <td>358500.0</td>\n",
              "    </tr>\n",
              "    <tr>\n",
              "      <th>2</th>\n",
              "      <td>-122.24</td>\n",
              "      <td>37.85</td>\n",
              "      <td>52.0</td>\n",
              "      <td>1467.0</td>\n",
              "      <td>190.0</td>\n",
              "      <td>496.0</td>\n",
              "      <td>177.0</td>\n",
              "      <td>7.2574</td>\n",
              "      <td>352100.0</td>\n",
              "    </tr>\n",
              "    <tr>\n",
              "      <th>3</th>\n",
              "      <td>-122.25</td>\n",
              "      <td>37.85</td>\n",
              "      <td>52.0</td>\n",
              "      <td>1274.0</td>\n",
              "      <td>235.0</td>\n",
              "      <td>558.0</td>\n",
              "      <td>219.0</td>\n",
              "      <td>5.6431</td>\n",
              "      <td>341300.0</td>\n",
              "    </tr>\n",
              "    <tr>\n",
              "      <th>4</th>\n",
              "      <td>-122.25</td>\n",
              "      <td>37.85</td>\n",
              "      <td>52.0</td>\n",
              "      <td>1627.0</td>\n",
              "      <td>280.0</td>\n",
              "      <td>565.0</td>\n",
              "      <td>259.0</td>\n",
              "      <td>3.8462</td>\n",
              "      <td>342200.0</td>\n",
              "    </tr>\n",
              "    <tr>\n",
              "      <th>5</th>\n",
              "      <td>-122.25</td>\n",
              "      <td>37.85</td>\n",
              "      <td>52.0</td>\n",
              "      <td>919.0</td>\n",
              "      <td>213.0</td>\n",
              "      <td>413.0</td>\n",
              "      <td>193.0</td>\n",
              "      <td>4.0368</td>\n",
              "      <td>269700.0</td>\n",
              "    </tr>\n",
              "    <tr>\n",
              "      <th>6</th>\n",
              "      <td>-122.25</td>\n",
              "      <td>37.84</td>\n",
              "      <td>52.0</td>\n",
              "      <td>2535.0</td>\n",
              "      <td>489.0</td>\n",
              "      <td>1094.0</td>\n",
              "      <td>514.0</td>\n",
              "      <td>3.6591</td>\n",
              "      <td>299200.0</td>\n",
              "    </tr>\n",
              "    <tr>\n",
              "      <th>7</th>\n",
              "      <td>-122.25</td>\n",
              "      <td>37.84</td>\n",
              "      <td>52.0</td>\n",
              "      <td>3104.0</td>\n",
              "      <td>687.0</td>\n",
              "      <td>1157.0</td>\n",
              "      <td>647.0</td>\n",
              "      <td>3.1200</td>\n",
              "      <td>241400.0</td>\n",
              "    </tr>\n",
              "    <tr>\n",
              "      <th>8</th>\n",
              "      <td>-122.26</td>\n",
              "      <td>37.84</td>\n",
              "      <td>42.0</td>\n",
              "      <td>2555.0</td>\n",
              "      <td>665.0</td>\n",
              "      <td>1206.0</td>\n",
              "      <td>595.0</td>\n",
              "      <td>2.0804</td>\n",
              "      <td>226700.0</td>\n",
              "    </tr>\n",
              "    <tr>\n",
              "      <th>9</th>\n",
              "      <td>-122.25</td>\n",
              "      <td>37.84</td>\n",
              "      <td>52.0</td>\n",
              "      <td>3549.0</td>\n",
              "      <td>707.0</td>\n",
              "      <td>1551.0</td>\n",
              "      <td>714.0</td>\n",
              "      <td>3.6912</td>\n",
              "      <td>261100.0</td>\n",
              "    </tr>\n",
              "  </tbody>\n",
              "</table>\n",
              "</div>\n",
              "      <button class=\"colab-df-convert\" onclick=\"convertToInteractive('df-eedc768d-1de6-4389-bd76-9462761f1164')\"\n",
              "              title=\"Convert this dataframe to an interactive table.\"\n",
              "              style=\"display:none;\">\n",
              "        \n",
              "  <svg xmlns=\"http://www.w3.org/2000/svg\" height=\"24px\"viewBox=\"0 0 24 24\"\n",
              "       width=\"24px\">\n",
              "    <path d=\"M0 0h24v24H0V0z\" fill=\"none\"/>\n",
              "    <path d=\"M18.56 5.44l.94 2.06.94-2.06 2.06-.94-2.06-.94-.94-2.06-.94 2.06-2.06.94zm-11 1L8.5 8.5l.94-2.06 2.06-.94-2.06-.94L8.5 2.5l-.94 2.06-2.06.94zm10 10l.94 2.06.94-2.06 2.06-.94-2.06-.94-.94-2.06-.94 2.06-2.06.94z\"/><path d=\"M17.41 7.96l-1.37-1.37c-.4-.4-.92-.59-1.43-.59-.52 0-1.04.2-1.43.59L10.3 9.45l-7.72 7.72c-.78.78-.78 2.05 0 2.83L4 21.41c.39.39.9.59 1.41.59.51 0 1.02-.2 1.41-.59l7.78-7.78 2.81-2.81c.8-.78.8-2.07 0-2.86zM5.41 20L4 18.59l7.72-7.72 1.47 1.35L5.41 20z\"/>\n",
              "  </svg>\n",
              "      </button>\n",
              "      \n",
              "  <style>\n",
              "    .colab-df-container {\n",
              "      display:flex;\n",
              "      flex-wrap:wrap;\n",
              "      gap: 12px;\n",
              "    }\n",
              "\n",
              "    .colab-df-convert {\n",
              "      background-color: #E8F0FE;\n",
              "      border: none;\n",
              "      border-radius: 50%;\n",
              "      cursor: pointer;\n",
              "      display: none;\n",
              "      fill: #1967D2;\n",
              "      height: 32px;\n",
              "      padding: 0 0 0 0;\n",
              "      width: 32px;\n",
              "    }\n",
              "\n",
              "    .colab-df-convert:hover {\n",
              "      background-color: #E2EBFA;\n",
              "      box-shadow: 0px 1px 2px rgba(60, 64, 67, 0.3), 0px 1px 3px 1px rgba(60, 64, 67, 0.15);\n",
              "      fill: #174EA6;\n",
              "    }\n",
              "\n",
              "    [theme=dark] .colab-df-convert {\n",
              "      background-color: #3B4455;\n",
              "      fill: #D2E3FC;\n",
              "    }\n",
              "\n",
              "    [theme=dark] .colab-df-convert:hover {\n",
              "      background-color: #434B5C;\n",
              "      box-shadow: 0px 1px 3px 1px rgba(0, 0, 0, 0.15);\n",
              "      filter: drop-shadow(0px 1px 2px rgba(0, 0, 0, 0.3));\n",
              "      fill: #FFFFFF;\n",
              "    }\n",
              "  </style>\n",
              "\n",
              "      <script>\n",
              "        const buttonEl =\n",
              "          document.querySelector('#df-eedc768d-1de6-4389-bd76-9462761f1164 button.colab-df-convert');\n",
              "        buttonEl.style.display =\n",
              "          google.colab.kernel.accessAllowed ? 'block' : 'none';\n",
              "\n",
              "        async function convertToInteractive(key) {\n",
              "          const element = document.querySelector('#df-eedc768d-1de6-4389-bd76-9462761f1164');\n",
              "          const dataTable =\n",
              "            await google.colab.kernel.invokeFunction('convertToInteractive',\n",
              "                                                     [key], {});\n",
              "          if (!dataTable) return;\n",
              "\n",
              "          const docLinkHtml = 'Like what you see? Visit the ' +\n",
              "            '<a target=\"_blank\" href=https://colab.research.google.com/notebooks/data_table.ipynb>data table notebook</a>'\n",
              "            + ' to learn more about interactive tables.';\n",
              "          element.innerHTML = '';\n",
              "          dataTable['output_type'] = 'display_data';\n",
              "          await google.colab.output.renderOutput(dataTable, element);\n",
              "          const docLink = document.createElement('div');\n",
              "          docLink.innerHTML = docLinkHtml;\n",
              "          element.appendChild(docLink);\n",
              "        }\n",
              "      </script>\n",
              "    </div>\n",
              "  </div>\n",
              "  "
            ]
          },
          "metadata": {},
          "execution_count": 65
        }
      ]
    },
    {
      "cell_type": "markdown",
      "source": [
        "###Look at the median_house_value variable. Does it have a long tail? False"
      ],
      "metadata": {
        "id": "-6lS553onoKC"
      }
    },
    {
      "cell_type": "code",
      "source": [
        "# Plot the histogram of median_house_value\n",
        "sns.histplot(data.median_house_value)"
      ],
      "metadata": {
        "colab": {
          "base_uri": "https://localhost:8080/",
          "height": 299
        },
        "id": "VW3js_ogm2EJ",
        "outputId": "c1d583bb-c6f2-4249-9719-60dce4135ea3"
      },
      "execution_count": 66,
      "outputs": [
        {
          "output_type": "execute_result",
          "data": {
            "text/plain": [
              "<matplotlib.axes._subplots.AxesSubplot at 0x7ff06cf8f0d0>"
            ]
          },
          "metadata": {},
          "execution_count": 66
        },
        {
          "output_type": "display_data",
          "data": {
            "text/plain": [
              "<Figure size 432x288 with 1 Axes>"
            ],
            "image/png": "[encoded data removed]"
          },
          "metadata": {
            "needs_background": "light"
          }
        }
      ]
    },
    {
      "cell_type": "code",
      "source": [
        "# Another way using the distribution plot with median_house_value\n",
        "sns.distplot(data.median_house_value)"
      ],
      "metadata": {
        "colab": {
          "base_uri": "https://localhost:8080/",
          "height": 310
        },
        "id": "w9_3Njrtxsh1",
        "outputId": "e08af79e-2b8b-4f6b-f377-1cdd173b88d1"
      },
      "execution_count": 67,
      "outputs": [
        {
          "output_type": "execute_result",
          "data": {
            "text/plain": [
              "<matplotlib.axes._subplots.AxesSubplot at 0x7ff069650fd0>"
            ]
          },
          "metadata": {},
          "execution_count": 67
        },
        {
          "output_type": "display_data",
          "data": {
            "text/plain": [
              "<Figure size 432x288 with 1 Axes>"
            ],
            "image/png": "[encoded data removed]"
          },
          "metadata": {
            "needs_background": "light"
          }
        }
      ]
    },
    {
      "cell_type": "code",
      "source": [
        "# Different view of the plot when applying the log transformation\n",
        "sns.distplot(np.log1p(data.median_house_value))"
      ],
      "metadata": {
        "colab": {
          "base_uri": "https://localhost:8080/",
          "height": 299
        },
        "id": "bO4sJL5Ty1MU",
        "outputId": "79e7fd2d-2c6b-4fe3-a360-4d18745bdba2"
      },
      "execution_count": 68,
      "outputs": [
        {
          "output_type": "execute_result",
          "data": {
            "text/plain": [
              "<matplotlib.axes._subplots.AxesSubplot at 0x7ff069530f10>"
            ]
          },
          "metadata": {},
          "execution_count": 68
        },
        {
          "output_type": "display_data",
          "data": {
            "text/plain": [
              "<Figure size 432x288 with 1 Axes>"
            ],
            "image/png": "[encoded data removed]"
          },
          "metadata": {
            "needs_background": "light"
          }
        }
      ]
    },
    {
      "cell_type": "markdown",
      "source": [
        "##Question 1\n",
        "\n",
        "**Find a feature with missing values. How many missing values does it have?**"
      ],
      "metadata": {
        "id": "0evHjaKJo0Nx"
      }
    },
    {
      "cell_type": "code",
      "source": [
        "# Use the function info to get information about the dataset\n",
        "data.info()"
      ],
      "metadata": {
        "colab": {
          "base_uri": "https://localhost:8080/"
        },
        "id": "2bEHYBCOoux2",
        "outputId": "2485912b-4e7e-4072-9ce7-000a306b53b4"
      },
      "execution_count": 69,
      "outputs": [
        {
          "output_type": "stream",
          "name": "stdout",
          "text": [
            "<class 'pandas.core.frame.DataFrame'>\n",
            "RangeIndex: 20640 entries, 0 to 20639\n",
            "Data columns (total 9 columns):\n",
            " #   Column              Non-Null Count  Dtype  \n",
            "---  ------              --------------  -----  \n",
            " 0   longitude           20640 non-null  float64\n",
            " 1   latitude            20640 non-null  float64\n",
            " 2   housing_median_age  20640 non-null  float64\n",
            " 3   total_rooms         20640 non-null  float64\n",
            " 4   total_bedrooms      20433 non-null  float64\n",
            " 5   population          20640 non-null  float64\n",
            " 6   households          20640 non-null  float64\n",
            " 7   median_income       20640 non-null  float64\n",
            " 8   median_house_value  20640 non-null  float64\n",
            "dtypes: float64(9)\n",
            "memory usage: 1.4 MB\n"
          ]
        }
      ]
    },
    {
      "cell_type": "code",
      "source": [
        "# We have a feature called total_bedrooms has missing values\n",
        "\n",
        "missingValues = data.isnull().sum()\n",
        "missingValues"
      ],
      "metadata": {
        "colab": {
          "base_uri": "https://localhost:8080/"
        },
        "id": "qygnysn4pp5B",
        "outputId": "4b34309c-dddf-4f9b-ef10-9509721b67f8"
      },
      "execution_count": 70,
      "outputs": [
        {
          "output_type": "execute_result",
          "data": {
            "text/plain": [
              "longitude               0\n",
              "latitude                0\n",
              "housing_median_age      0\n",
              "total_rooms             0\n",
              "total_bedrooms        207\n",
              "population              0\n",
              "households              0\n",
              "median_income           0\n",
              "median_house_value      0\n",
              "dtype: int64"
            ]
          },
          "metadata": {},
          "execution_count": 70
        }
      ]
    },
    {
      "cell_type": "markdown",
      "source": [
        "###Answer for Question N.1: 'total_bedrooms', 207"
      ],
      "metadata": {
        "id": "5MCixymRq2RI"
      }
    },
    {
      "cell_type": "code",
      "source": [
        "# Different method to find the missing values of the datset\n",
        "incomplete = data.isna().mean()*100\n",
        "print(incomplete[incomplete > 0])\n",
        "\n",
        "# in this case the percentage of the missing values is 1%"
      ],
      "metadata": {
        "colab": {
          "base_uri": "https://localhost:8080/"
        },
        "id": "TbcE1-Ajt9_N",
        "outputId": "da365800-6761-4391-da04-b1aa721fb350"
      },
      "execution_count": 71,
      "outputs": [
        {
          "output_type": "stream",
          "name": "stdout",
          "text": [
            "total_bedrooms    1.002907\n",
            "dtype: float64\n"
          ]
        }
      ]
    },
    {
      "cell_type": "code",
      "source": [
        "# Another method to find the missing values of the datset\n",
        "data.isna().any()"
      ],
      "metadata": {
        "colab": {
          "base_uri": "https://localhost:8080/"
        },
        "id": "PZCwTJQdvRD9",
        "outputId": "faf32134-c929-4076-bab6-b62ffd231bf0"
      },
      "execution_count": 72,
      "outputs": [
        {
          "output_type": "execute_result",
          "data": {
            "text/plain": [
              "longitude             False\n",
              "latitude              False\n",
              "housing_median_age    False\n",
              "total_rooms           False\n",
              "total_bedrooms         True\n",
              "population            False\n",
              "households            False\n",
              "median_income         False\n",
              "median_house_value    False\n",
              "dtype: bool"
            ]
          },
          "metadata": {},
          "execution_count": 72
        }
      ]
    },
    {
      "cell_type": "markdown",
      "source": [
        "##Question 2\n",
        "\n",
        "**What's the median (50% percentile) for variable 'population'?**"
      ],
      "metadata": {
        "id": "aloSLp30sI_e"
      }
    },
    {
      "cell_type": "code",
      "source": [
        "medianPopulation = data['population'].median()\n",
        "medianPopulation"
      ],
      "metadata": {
        "colab": {
          "base_uri": "https://localhost:8080/"
        },
        "id": "zN5f7oq1rDPc",
        "outputId": "1aba2cc0-38a6-4927-a8a9-69b68b76c84d"
      },
      "execution_count": 73,
      "outputs": [
        {
          "output_type": "execute_result",
          "data": {
            "text/plain": [
              "1166.0"
            ]
          },
          "metadata": {},
          "execution_count": 73
        }
      ]
    },
    {
      "cell_type": "markdown",
      "source": [
        "###Answer for Question N.2: 1166"
      ],
      "metadata": {
        "id": "Jn7fk5XXtMQ_"
      }
    },
    {
      "cell_type": "code",
      "source": [
        "# Another way to find the median for variable 'population'\n",
        "data['population'].describe(percentiles=[.5]).T"
      ],
      "metadata": {
        "colab": {
          "base_uri": "https://localhost:8080/"
        },
        "id": "axc7CGlSwPmT",
        "outputId": "87dc557b-2ac2-4879-a5dc-4a8f8c8f104c"
      },
      "execution_count": 74,
      "outputs": [
        {
          "output_type": "execute_result",
          "data": {
            "text/plain": [
              "count    20640.000000\n",
              "mean      1425.476744\n",
              "std       1132.462122\n",
              "min          3.000000\n",
              "50%       1166.000000\n",
              "max      35682.000000\n",
              "Name: population, dtype: float64"
            ]
          },
          "metadata": {},
          "execution_count": 74
        }
      ]
    },
    {
      "cell_type": "code",
      "source": [
        "# Final way to find the median for variable 'population'\n",
        "np.median(data['population'])"
      ],
      "metadata": {
        "colab": {
          "base_uri": "https://localhost:8080/"
        },
        "id": "9wyRmDSGyXgF",
        "outputId": "94171d8f-6805-4708-c346-5f02d58dbeef"
      },
      "execution_count": 75,
      "outputs": [
        {
          "output_type": "execute_result",
          "data": {
            "text/plain": [
              "1166.0"
            ]
          },
          "metadata": {},
          "execution_count": 75
        }
      ]
    },
    {
      "cell_type": "code",
      "source": [
        "# Descriptive statistic of the dataset\n",
        "data.describe(percentiles=[.0, .25, .5, .75, .9, .95, .99, .1]).T"
      ],
      "metadata": {
        "colab": {
          "base_uri": "https://localhost:8080/",
          "height": 396
        },
        "id": "y7VQvBvrxJcW",
        "outputId": "b63a0db9-ab28-494f-c7a0-d114b61b8ca7"
      },
      "execution_count": 76,
      "outputs": [
        {
          "output_type": "execute_result",
          "data": {
            "text/plain": [
              "                      count           mean            std         min  \\\n",
              "longitude           20640.0    -119.569704       2.003532   -124.3500   \n",
              "latitude            20640.0      35.631861       2.135952     32.5400   \n",
              "housing_median_age  20640.0      28.639486      12.585558      1.0000   \n",
              "total_rooms         20640.0    2635.763081    2181.615252      2.0000   \n",
              "total_bedrooms      20433.0     537.870553     421.385070      1.0000   \n",
              "population          20640.0    1425.476744    1132.462122      3.0000   \n",
              "households          20640.0     499.539680     382.329753      1.0000   \n",
              "median_income       20640.0       3.870671       1.899822      0.4999   \n",
              "median_house_value  20640.0  206855.816909  115395.615874  14999.0000   \n",
              "\n",
              "                            0%         10%          25%          50%  \\\n",
              "longitude            -124.3500   -122.2900    -121.8000    -118.4900   \n",
              "latitude               32.5400     33.6300      33.9300      34.2600   \n",
              "housing_median_age      1.0000     13.0000      18.0000      29.0000   \n",
              "total_rooms             2.0000    941.0000    1447.7500    2127.0000   \n",
              "total_bedrooms          1.0000    198.0000     296.0000     435.0000   \n",
              "population              3.0000    510.0000     787.0000    1166.0000   \n",
              "households              1.0000    184.0000     280.0000     409.0000   \n",
              "median_income           0.4999      1.9038       2.5634       3.5348   \n",
              "median_house_value  14999.0000  82300.0000  119600.0000  179700.0000   \n",
              "\n",
              "                             75%           90%            95%           99%  \\\n",
              "longitude             -118.01000    -117.25000    -117.080000    -116.29000   \n",
              "latitude                37.71000      38.48000      38.960000      40.62610   \n",
              "housing_median_age      37.00000      46.00000      52.000000      52.00000   \n",
              "total_rooms           3148.00000    4651.50000    6213.200000   11212.11000   \n",
              "total_bedrooms         647.00000     965.00000    1275.400000    2221.36000   \n",
              "population            1725.00000    2566.00000    3288.000000    5805.83000   \n",
              "households             605.00000     890.00000    1162.000000    1982.66000   \n",
              "median_income            4.74325       6.15921       7.300305      10.59654   \n",
              "median_house_value  264725.00000  376600.00000  489810.000000  500001.00000   \n",
              "\n",
              "                            max  \n",
              "longitude             -114.3100  \n",
              "latitude                41.9500  \n",
              "housing_median_age      52.0000  \n",
              "total_rooms          39320.0000  \n",
              "total_bedrooms        6445.0000  \n",
              "population           35682.0000  \n",
              "households            6082.0000  \n",
              "median_income           15.0001  \n",
              "median_house_value  500001.0000  "
            ],
            "text/html": [
              "\n",
              "  <div id=\"df-8d0c4a3b-fe4d-4712-a87f-93098af0b510\">\n",
              "    <div class=\"colab-df-container\">\n",
              "      <div>\n",
              "<style scoped>\n",
              "    .dataframe tbody tr th:only-of-type {\n",
              "        vertical-align: middle;\n",
              "    }\n",
              "\n",
              "    .dataframe tbody tr th {\n",
              "        vertical-align: top;\n",
              "    }\n",
              "\n",
              "    .dataframe thead th {\n",
              "        text-align: right;\n",
              "    }\n",
              "</style>\n",
              "<table border=\"1\" class=\"dataframe\">\n",
              "  <thead>\n",
              "    <tr style=\"text-align: right;\">\n",
              "      <th></th>\n",
              "      <th>count</th>\n",
              "      <th>mean</th>\n",
              "      <th>std</th>\n",
              "      <th>min</th>\n",
              "      <th>0%</th>\n",
              "      <th>10%</th>\n",
              "      <th>25%</th>\n",
              "      <th>50%</th>\n",
              "      <th>75%</th>\n",
              "      <th>90%</th>\n",
              "      <th>95%</th>\n",
              "      <th>99%</th>\n",
              "      <th>max</th>\n",
              "    </tr>\n",
              "  </thead>\n",
              "  <tbody>\n",
              "    <tr>\n",
              "      <th>longitude</th>\n",
              "      <td>20640.0</td>\n",
              "      <td>-119.569704</td>\n",
              "      <td>2.003532</td>\n",
              "      <td>-124.3500</td>\n",
              "      <td>-124.3500</td>\n",
              "      <td>-122.2900</td>\n",
              "      <td>-121.8000</td>\n",
              "      <td>-118.4900</td>\n",
              "      <td>-118.01000</td>\n",
              "      <td>-117.25000</td>\n",
              "      <td>-117.080000</td>\n",
              "      <td>-116.29000</td>\n",
              "      <td>-114.3100</td>\n",
              "    </tr>\n",
              "    <tr>\n",
              "      <th>latitude</th>\n",
              "      <td>20640.0</td>\n",
              "      <td>35.631861</td>\n",
              "      <td>2.135952</td>\n",
              "      <td>32.5400</td>\n",
              "      <td>32.5400</td>\n",
              "      <td>33.6300</td>\n",
              "      <td>33.9300</td>\n",
              "      <td>34.2600</td>\n",
              "      <td>37.71000</td>\n",
              "      <td>38.48000</td>\n",
              "      <td>38.960000</td>\n",
              "      <td>40.62610</td>\n",
              "      <td>41.9500</td>\n",
              "    </tr>\n",
              "    <tr>\n",
              "      <th>housing_median_age</th>\n",
              "      <td>20640.0</td>\n",
              "      <td>28.639486</td>\n",
              "      <td>12.585558</td>\n",
              "      <td>1.0000</td>\n",
              "      <td>1.0000</td>\n",
              "      <td>13.0000</td>\n",
              "      <td>18.0000</td>\n",
              "      <td>29.0000</td>\n",
              "      <td>37.00000</td>\n",
              "      <td>46.00000</td>\n",
              "      <td>52.000000</td>\n",
              "      <td>52.00000</td>\n",
              "      <td>52.0000</td>\n",
              "    </tr>\n",
              "    <tr>\n",
              "      <th>total_rooms</th>\n",
              "      <td>20640.0</td>\n",
              "      <td>2635.763081</td>\n",
              "      <td>2181.615252</td>\n",
              "      <td>2.0000</td>\n",
              "      <td>2.0000</td>\n",
              "      <td>941.0000</td>\n",
              "      <td>1447.7500</td>\n",
              "      <td>2127.0000</td>\n",
              "      <td>3148.00000</td>\n",
              "      <td>4651.50000</td>\n",
              "      <td>6213.200000</td>\n",
              "      <td>11212.11000</td>\n",
              "      <td>39320.0000</td>\n",
              "    </tr>\n",
              "    <tr>\n",
              "      <th>total_bedrooms</th>\n",
              "      <td>20433.0</td>\n",
              "      <td>537.870553</td>\n",
              "      <td>421.385070</td>\n",
              "      <td>1.0000</td>\n",
              "      <td>1.0000</td>\n",
              "      <td>198.0000</td>\n",
              "      <td>296.0000</td>\n",
              "      <td>435.0000</td>\n",
              "      <td>647.00000</td>\n",
              "      <td>965.00000</td>\n",
              "      <td>1275.400000</td>\n",
              "      <td>2221.36000</td>\n",
              "      <td>6445.0000</td>\n",
              "    </tr>\n",
              "    <tr>\n",
              "      <th>population</th>\n",
              "      <td>20640.0</td>\n",
              "      <td>1425.476744</td>\n",
              "      <td>1132.462122</td>\n",
              "      <td>3.0000</td>\n",
              "      <td>3.0000</td>\n",
              "      <td>510.0000</td>\n",
              "      <td>787.0000</td>\n",
              "      <td>1166.0000</td>\n",
              "      <td>1725.00000</td>\n",
              "      <td>2566.00000</td>\n",
              "      <td>3288.000000</td>\n",
              "      <td>5805.83000</td>\n",
              "      <td>35682.0000</td>\n",
              "    </tr>\n",
              "    <tr>\n",
              "      <th>households</th>\n",
              "      <td>20640.0</td>\n",
              "      <td>499.539680</td>\n",
              "      <td>382.329753</td>\n",
              "      <td>1.0000</td>\n",
              "      <td>1.0000</td>\n",
              "      <td>184.0000</td>\n",
              "      <td>280.0000</td>\n",
              "      <td>409.0000</td>\n",
              "      <td>605.00000</td>\n",
              "      <td>890.00000</td>\n",
              "      <td>1162.000000</td>\n",
              "      <td>1982.66000</td>\n",
              "      <td>6082.0000</td>\n",
              "    </tr>\n",
              "    <tr>\n",
              "      <th>median_income</th>\n",
              "      <td>20640.0</td>\n",
              "      <td>3.870671</td>\n",
              "      <td>1.899822</td>\n",
              "      <td>0.4999</td>\n",
              "      <td>0.4999</td>\n",
              "      <td>1.9038</td>\n",
              "      <td>2.5634</td>\n",
              "      <td>3.5348</td>\n",
              "      <td>4.74325</td>\n",
              "      <td>6.15921</td>\n",
              "      <td>7.300305</td>\n",
              "      <td>10.59654</td>\n",
              "      <td>15.0001</td>\n",
              "    </tr>\n",
              "    <tr>\n",
              "      <th>median_house_value</th>\n",
              "      <td>20640.0</td>\n",
              "      <td>206855.816909</td>\n",
              "      <td>115395.615874</td>\n",
              "      <td>14999.0000</td>\n",
              "      <td>14999.0000</td>\n",
              "      <td>82300.0000</td>\n",
              "      <td>119600.0000</td>\n",
              "      <td>179700.0000</td>\n",
              "      <td>264725.00000</td>\n",
              "      <td>376600.00000</td>\n",
              "      <td>489810.000000</td>\n",
              "      <td>500001.00000</td>\n",
              "      <td>500001.0000</td>\n",
              "    </tr>\n",
              "  </tbody>\n",
              "</table>\n",
              "</div>\n",
              "      <button class=\"colab-df-convert\" onclick=\"convertToInteractive('df-8d0c4a3b-fe4d-4712-a87f-93098af0b510')\"\n",
              "              title=\"Convert this dataframe to an interactive table.\"\n",
              "              style=\"display:none;\">\n",
              "        \n",
              "  <svg xmlns=\"http://www.w3.org/2000/svg\" height=\"24px\"viewBox=\"0 0 24 24\"\n",
              "       width=\"24px\">\n",
              "    <path d=\"M0 0h24v24H0V0z\" fill=\"none\"/>\n",
              "    <path d=\"M18.56 5.44l.94 2.06.94-2.06 2.06-.94-2.06-.94-.94-2.06-.94 2.06-2.06.94zm-11 1L8.5 8.5l.94-2.06 2.06-.94-2.06-.94L8.5 2.5l-.94 2.06-2.06.94zm10 10l.94 2.06.94-2.06 2.06-.94-2.06-.94-.94-2.06-.94 2.06-2.06.94z\"/><path d=\"M17.41 7.96l-1.37-1.37c-.4-.4-.92-.59-1.43-.59-.52 0-1.04.2-1.43.59L10.3 9.45l-7.72 7.72c-.78.78-.78 2.05 0 2.83L4 21.41c.39.39.9.59 1.41.59.51 0 1.02-.2 1.41-.59l7.78-7.78 2.81-2.81c.8-.78.8-2.07 0-2.86zM5.41 20L4 18.59l7.72-7.72 1.47 1.35L5.41 20z\"/>\n",
              "  </svg>\n",
              "      </button>\n",
              "      \n",
              "  <style>\n",
              "    .colab-df-container {\n",
              "      display:flex;\n",
              "      flex-wrap:wrap;\n",
              "      gap: 12px;\n",
              "    }\n",
              "\n",
              "    .colab-df-convert {\n",
              "      background-color: #E8F0FE;\n",
              "      border: none;\n",
              "      border-radius: 50%;\n",
              "      cursor: pointer;\n",
              "      display: none;\n",
              "      fill: #1967D2;\n",
              "      height: 32px;\n",
              "      padding: 0 0 0 0;\n",
              "      width: 32px;\n",
              "    }\n",
              "\n",
              "    .colab-df-convert:hover {\n",
              "      background-color: #E2EBFA;\n",
              "      box-shadow: 0px 1px 2px rgba(60, 64, 67, 0.3), 0px 1px 3px 1px rgba(60, 64, 67, 0.15);\n",
              "      fill: #174EA6;\n",
              "    }\n",
              "\n",
              "    [theme=dark] .colab-df-convert {\n",
              "      background-color: #3B4455;\n",
              "      fill: #D2E3FC;\n",
              "    }\n",
              "\n",
              "    [theme=dark] .colab-df-convert:hover {\n",
              "      background-color: #434B5C;\n",
              "      box-shadow: 0px 1px 3px 1px rgba(0, 0, 0, 0.15);\n",
              "      filter: drop-shadow(0px 1px 2px rgba(0, 0, 0, 0.3));\n",
              "      fill: #FFFFFF;\n",
              "    }\n",
              "  </style>\n",
              "\n",
              "      <script>\n",
              "        const buttonEl =\n",
              "          document.querySelector('#df-8d0c4a3b-fe4d-4712-a87f-93098af0b510 button.colab-df-convert');\n",
              "        buttonEl.style.display =\n",
              "          google.colab.kernel.accessAllowed ? 'block' : 'none';\n",
              "\n",
              "        async function convertToInteractive(key) {\n",
              "          const element = document.querySelector('#df-8d0c4a3b-fe4d-4712-a87f-93098af0b510');\n",
              "          const dataTable =\n",
              "            await google.colab.kernel.invokeFunction('convertToInteractive',\n",
              "                                                     [key], {});\n",
              "          if (!dataTable) return;\n",
              "\n",
              "          const docLinkHtml = 'Like what you see? Visit the ' +\n",
              "            '<a target=\"_blank\" href=https://colab.research.google.com/notebooks/data_table.ipynb>data table notebook</a>'\n",
              "            + ' to learn more about interactive tables.';\n",
              "          element.innerHTML = '';\n",
              "          dataTable['output_type'] = 'display_data';\n",
              "          await google.colab.output.renderOutput(dataTable, element);\n",
              "          const docLink = document.createElement('div');\n",
              "          docLink.innerHTML = docLinkHtml;\n",
              "          element.appendChild(docLink);\n",
              "        }\n",
              "      </script>\n",
              "    </div>\n",
              "  </div>\n",
              "  "
            ]
          },
          "metadata": {},
          "execution_count": 76
        }
      ]
    },
    {
      "cell_type": "markdown",
      "source": [
        "##Split the data"
      ],
      "metadata": {
        "id": "ztTZl-KntmZY"
      }
    },
    {
      "cell_type": "code",
      "source": [
        "# Define the function training linear regression\n",
        "def train_linear_regression(X, y):\n",
        "\n",
        "  # Create a vector with ones to add the array X\n",
        "  ones = np.ones(X.shape[0])\n",
        "\n",
        "  # Stack the vector of ones with the matrix\n",
        "  X = np.column_stack([ones, X])\n",
        "\n",
        "  # Implement the the gram matrix\n",
        "  XTX = X.T.dot(X)\n",
        "\n",
        "  # Find the inverse of the matrix\n",
        "  XTX_inv = np.linalg.inv(XTX)\n",
        "\n",
        "  # Multiply with x transpose and then multiply it with y\n",
        "  w_full = XTX_inv.dot(X.T).dot(y)\n",
        "\n",
        "  # return the result: first element of the tuple is the bias term\n",
        "  # the rest is the weights\n",
        "  return w_full[0], w_full[1:]"
      ],
      "metadata": {
        "id": "IHO1BkhMppSK"
      },
      "execution_count": 77,
      "outputs": []
    },
    {
      "cell_type": "code",
      "source": [
        "# Dataset Preparation\n",
        "\n",
        "# Store the length of the dataset\n",
        "n = len(data)\n",
        "\n",
        "# Define the size of the datasets: validation, test and train\n",
        "# Split your data in train/val/test sets, with 60%/20%/20% distribution.\n",
        "n_val   = int(0.2*n)\n",
        "n_test  = int(0.2*n)\n",
        "n_train = n - (n_val+n_test)\n",
        "\n",
        "# Shuffle the initial dataset, use seed 42.\n",
        "idx = np.arange(n)\n",
        "np.random.seed(42)\n",
        "np.random.shuffle(idx)\n",
        "\n",
        "# Store the data shuffled in a new dataframe\n",
        "df_shuffled = data.iloc[idx]\n",
        "\n",
        "# Make a copy of the datasets with the new index\n",
        "df_train = df_shuffled.iloc[:n_train].copy()\n",
        "df_val   = df_shuffled.iloc[n_train:n_train+n_val].copy()\n",
        "df_test  = df_shuffled.iloc[n_train+n_val:].copy()\n",
        "\n",
        "# Reset the indexes of all datasets\n",
        "df_train = df_train.reset_index(drop=True)\n",
        "df_val   = df_val.reset_index(drop=True)\n",
        "df_test  = df_test.reset_index(drop=True)\n"
      ],
      "metadata": {
        "id": "n9V0bSuHsw_g"
      },
      "execution_count": 78,
      "outputs": []
    },
    {
      "cell_type": "code",
      "source": [
        "# Prepare the target featues for all datsets: train, validation and test\n",
        "# Apply the log transformation to the median_house_value variable using the np.log1p() function.\n",
        "y_train = np.log1p(df_train.median_house_value.values)\n",
        "y_val   = np.log1p(df_val.median_house_value.values)\n",
        "y_test  = np.log1p(df_test.median_house_value.values)"
      ],
      "metadata": {
        "id": "AD3xVPZqVPE5"
      },
      "execution_count": 79,
      "outputs": []
    },
    {
      "cell_type": "code",
      "source": [
        "# Make sure that the target value ('median_house_value') is not in your dataframe.\n",
        "del df_train['median_house_value']\n",
        "del df_val['median_house_value']\n",
        "del df_test['median_house_value']"
      ],
      "metadata": {
        "id": "eWVbjdL-1qrE"
      },
      "execution_count": 80,
      "outputs": []
    },
    {
      "cell_type": "markdown",
      "source": [
        "##Question 3\n",
        "\n"
      ],
      "metadata": {
        "id": "exSIbYe4XKCA"
      }
    },
    {
      "cell_type": "code",
      "source": [
        "# Create list with the columns to be checked with the dataset\n",
        "check = [\n",
        "    'latitude',\n",
        "    'longitude',\n",
        "    'housing_median_age',\n",
        "    'total_rooms',\n",
        "    'total_bedrooms',\n",
        "    'population',\n",
        "    'households',\n",
        "    'median_income'\n",
        "]\n",
        "\n",
        "# Declare function prepare X to fill the missing values\n",
        "def prepare_X(df, fillna_value):\n",
        "\n",
        "  # Create dataframe with columns from the chek list\n",
        "  df_num = df[check]\n",
        "  \n",
        "  # Filling the missing values of the dataframe\n",
        "  df_num = df_num.fillna(fillna_value)\n",
        "  \n",
        "  # Extracting the feature matrix, the numpy array\n",
        "  X = df_num.values\n",
        "  \n",
        "  # Return the numpy array X\n",
        "  return X"
      ],
      "metadata": {
        "id": "vjEpqVyLWj4i"
      },
      "execution_count": 81,
      "outputs": []
    },
    {
      "cell_type": "code",
      "source": [
        "# Define a function for RMSE using the y values and y prediction\n",
        "def rmse(y, y_pred):\n",
        "\n",
        "  # Store the error the difference between y and y prediction\n",
        "  error = y - y_pred \n",
        "\n",
        "  # Squared error value\n",
        "  se = error ** 2\n",
        "\n",
        "  # Store the mean (average) square error\n",
        "  mse = se.mean()\n",
        "\n",
        "  # Return the square root of mean square error\n",
        "  return np.sqrt(mse)"
      ],
      "metadata": {
        "id": "Rh6s5DgTeFvU"
      },
      "execution_count": 82,
      "outputs": []
    },
    {
      "cell_type": "code",
      "source": [
        "# We need to deal with missing values for the column from Q1.\n",
        "\n",
        "# We have two options: fill it with 0 or with the mean of this variable.\n",
        "# Try both options. For each, train a linear regression model without regularization using the code from the lessons.\n",
        "\n",
        "# For computing the mean, use the training only!\n",
        "\n",
        "# Calculate the mean of the columntotal_bedrooms with train dataset\n",
        "mean = df_train.total_bedrooms.mean()\n",
        "\n",
        "# Fill the missing values with the mean for the train dataset\n",
        "X_mean_train = prepare_X(df_train, fillna_value=mean)\n",
        "\n",
        "# Receive the intercept for our mean solution (w_0_mean) and our slope coefficients (w_mean)\n",
        "# by applying train linear regression function on our x and y train sets\n",
        "# here we train the model:\n",
        "w_0_mean, w_mean = train_linear_regression(X_mean_train, y_train)"
      ],
      "metadata": {
        "id": "--KhBHhOi3WC"
      },
      "execution_count": 83,
      "outputs": []
    },
    {
      "cell_type": "code",
      "source": [
        "# Prepare x for the validation set and calculate the y prediction on the validation set\n",
        "\n",
        "# Fill the missing values with the mean for the validation dataset\n",
        "X_mean_val = prepare_X(df_val, fillna_value=mean)\n",
        "\n",
        "# Calculate the y prediction on the validation dataset\n",
        "# basically just apllying linear regression equation:  \n",
        "# the intercept  plus our validation dataset dot our slop coefficient \n",
        "y_mean_pred_val = w_0_mean + X_mean_val.dot(w_mean)"
      ],
      "metadata": {
        "id": "G93NS9IKyZpk"
      },
      "execution_count": 84,
      "outputs": []
    },
    {
      "cell_type": "code",
      "source": [
        "# With mean use the numpy round function calculate RMSE on the validation dataset\n",
        "# Round the RMSE scores to 2 decimal digits using round(score, 2)\n",
        "np.round(rmse(y_val, y_mean_pred_val),2)\n",
        "\n",
        "# Result with mean:"
      ],
      "metadata": {
        "colab": {
          "base_uri": "https://localhost:8080/"
        },
        "id": "ifUYjgzu1vdr",
        "outputId": "8d5ab30d-9448-42a9-a436-46092ac52e65"
      },
      "execution_count": 85,
      "outputs": [
        {
          "output_type": "execute_result",
          "data": {
            "text/plain": [
              "0.33"
            ]
          },
          "metadata": {},
          "execution_count": 85
        }
      ]
    },
    {
      "cell_type": "code",
      "source": [
        "# Doing the same but now with value zero:\n",
        "\n",
        "# Fill the missing values with the zero for the train dataset\n",
        "X_null_train = prepare_X(df_train, fillna_value=0)\n",
        "\n",
        "# Receive the intercept for our zero solution (w_0_null) and our slope coefficients (w_null)\n",
        "# by applying train linear regression function on our x and y train sets\n",
        "# here we train the model:\n",
        "w_0_null, w_null = train_linear_regression(X_null_train, y_train)"
      ],
      "metadata": {
        "id": "gcC1SDTz2V0k"
      },
      "execution_count": 86,
      "outputs": []
    },
    {
      "cell_type": "code",
      "source": [
        "# Prepare x for the validation set and calculate the y prediction on the validation set\n",
        "\n",
        "# Fill the missing values with the zero for the validation dataset\n",
        "X_null_val = prepare_X(df_val, fillna_value=0)\n",
        "\n",
        "# Calculate the y prediction on the validation dataset\n",
        "# basically just apllying linear regression equation:  \n",
        "# the intercept  plus our validation dataset dot our slop coefficient \n",
        "y_null_pred_val = w_0_null + X_null_val.dot(w_null)"
      ],
      "metadata": {
        "id": "OTcIhZK15N3r"
      },
      "execution_count": 87,
      "outputs": []
    },
    {
      "cell_type": "code",
      "source": [
        "# With zero use the numpy round function calculate RMSE on the validation dataset\n",
        "# Round the RMSE scores to 2 decimal digits using round(score, 2)\n",
        "np.round(rmse(y_val, y_null_pred_val),2)\n",
        "\n",
        "# Result with null:"
      ],
      "metadata": {
        "colab": {
          "base_uri": "https://localhost:8080/"
        },
        "id": "VTgiSqAO6V75",
        "outputId": "76d5e4a2-3197-4065-e7ba-9ddb4e914dc9"
      },
      "execution_count": 88,
      "outputs": [
        {
          "output_type": "execute_result",
          "data": {
            "text/plain": [
              "0.33"
            ]
          },
          "metadata": {},
          "execution_count": 88
        }
      ]
    },
    {
      "cell_type": "markdown",
      "source": [
        "###Answer for Question N.3: Both are equally good"
      ],
      "metadata": {
        "id": "tPYFHR0069ef"
      }
    },
    {
      "cell_type": "markdown",
      "source": [
        "##Question 4"
      ],
      "metadata": {
        "id": "VX2bjaab7izF"
      }
    },
    {
      "cell_type": "markdown",
      "source": [
        "##Regularization"
      ],
      "metadata": {
        "id": "kDSUMaEe8-bO"
      }
    },
    {
      "cell_type": "code",
      "source": [
        "# regularization it means controlling the weights that they don't grow to much\n",
        "\n",
        "# Define a training linear regression regularized function\n",
        "# we have one more parameter called r and is short for regularization and we have some default parameter\n",
        "def train_linear_regression_reg(X, y, r=0.0):\n",
        "\n",
        "  # Create a vector with ones to add the array X\n",
        "  ones = np.ones(X.shape[0])\n",
        "\n",
        "  # Stack the vector of ones with the matrix\n",
        "  X = np.column_stack([ones, X])\n",
        "\n",
        "  # Implement the the gram matrix\n",
        "  XTX = X.T.dot(X)\n",
        "\n",
        "  # We need to add a small number to the diagonal of the matrix\n",
        "  # by doing this we can invert the matrix\n",
        "  XTX = XTX + r * np.eye(XTX.shape[0])\n",
        "\n",
        "  # Find the inverse of the matrix\n",
        "  XTX_inv = np.linalg.inv(XTX)\n",
        "\n",
        "  # Multiply with x transpose and then multiply it with y\n",
        "  w_full = XTX_inv.dot(X.T).dot(y)\n",
        "\n",
        "  # return the result: first element of the tuple is the bias term\n",
        "  # the rest is the weights\n",
        "  return w_full[0], w_full[1:]"
      ],
      "metadata": {
        "id": "_CE1Ltv_7Xik"
      },
      "execution_count": 89,
      "outputs": []
    },
    {
      "cell_type": "code",
      "source": [
        "# the r affects the quality of our model and we want to find the best value for the r\n",
        "\n",
        "# now we use the validation set for finding the best value\n",
        "# and for that use a bunch of different for r\n",
        "\n",
        "# Declare dictionary to store the r values\n",
        "r_val = {}\n",
        "\n",
        "# Create for loop with r values\n",
        "for r in [0, 0.000001, 0.0001, 0.001, 0.01, 0.1, 1, 5, 10]:\n",
        "\n",
        "  # Store the result of the function train linear regression with our bias term\n",
        "  w_0, w = train_linear_regression_reg(X_null_train, y_train, r=r)\n",
        "\n",
        "  # Create y prediction using linear regression\n",
        "  y_null_reg_val = w_0 + X_null_val.dot(w)\n",
        "\n",
        "  # Use RMSE with the prediction and validation\n",
        "  rmse_val = np.round(rmse(y_val, y_null_reg_val),2)\n",
        "  \n",
        "  # Print the results using the regularization parameter, bias term and the RMSE value\n",
        "  print(r, w_0, rmse_val)\n",
        "  \n",
        "  # Append dictionary to store the r values\n",
        "  r_val.update({r : (w_0, rmse_val)})\n",
        "  \n",
        "small_r = min(r_val, key=r_val.get)\n",
        "\n",
        "# Print the smallest r parameter for regularization\n",
        "print('The smallest r is = ' + str(small_r))"
      ],
      "metadata": {
        "colab": {
          "base_uri": "https://localhost:8080/"
        },
        "id": "gG7o8tb0CF6K",
        "outputId": "d7e3fe3e-e324-4c0e-ec40-036d550f3abd"
      },
      "execution_count": 90,
      "outputs": [
        {
          "output_type": "stream",
          "name": "stdout",
          "text": [
            "0 -11.686975241808469 0.33\n",
            "1e-06 -11.686959175857494 0.33\n",
            "0.0001 -11.685368865259061 0.33\n",
            "0.001 -11.670931318158033 0.33\n",
            "0.01 -11.528493585707224 0.33\n",
            "0.1 -10.274500281964695 0.33\n",
            "1 -4.920480897816711 0.33\n",
            "5 -1.4820957455971928 0.34\n",
            "10 -0.7899311832023754 0.34\n",
            "The smallest r is = 0\n"
          ]
        }
      ]
    },
    {
      "cell_type": "markdown",
      "source": [
        "###Answer for Question N.4: 0 (zero)"
      ],
      "metadata": {
        "id": "Za7qWa7cLkEO"
      }
    },
    {
      "cell_type": "markdown",
      "source": [
        "##Question 5"
      ],
      "metadata": {
        "id": "eUPyB0SjNNaD"
      }
    },
    {
      "cell_type": "markdown",
      "source": [
        "##Seed Checking"
      ],
      "metadata": {
        "id": "qv4wvOUbNTAO"
      }
    },
    {
      "cell_type": "code",
      "source": [
        "# Create RMSE list to store the results at the end\n",
        "rmse_list = []\n",
        "\n",
        "# Declare a for loop for looping through the different seed values\n",
        "for r in [0, 1, 2, 3, 4, 5, 6, 7, 8, 9]:\n",
        "\n",
        "  # Shuffle the initial dataset, use seed from for loop list\n",
        "  idx = np.arange(n)\n",
        "  np.random.seed(42)\n",
        "  np.random.shuffle(idx)\n",
        "\n",
        "  # Store the data shuffled in a new dataframe\n",
        "  df_shuffled = data.iloc[idx]\n",
        "\n",
        "  # Make a copy of the datasets with the new index\n",
        "  df_train = df_shuffled.iloc[:n_train].copy()\n",
        "  df_val   = df_shuffled.iloc[n_train:n_train+n_val].copy()\n",
        "  df_test  = df_shuffled.iloc[n_train+n_val:].copy()\n",
        "\n",
        "  # Reset the indexes of all datasets\n",
        "  df_train = df_train.reset_index(drop=True)\n",
        "  df_val   = df_val.reset_index(drop=True)\n",
        "  df_test  = df_test.reset_index(drop=True)\n",
        "\n",
        "  # Prepare the target featues for all datsets: train, validation and test\n",
        "  # Apply the log transformation to the median_house_value variable using the np.log1p() function.\n",
        "  y_train = np.log1p(df_train.median_house_value.values)\n",
        "  y_val   = np.log1p(df_val.median_house_value.values)\n",
        "  y_test  = np.log1p(df_test.median_house_value.values)\n",
        "\n",
        "  # Make sure that the target value ('median_house_value') is not in your dataframe.\n",
        "  del df_train['median_house_value']\n",
        "  del df_val['median_house_value']\n",
        "  del df_test['median_house_value']\n",
        "\n",
        "  # Fill the missing values with the zero for the train dataset\n",
        "  X_null_train = prepare_X(df_train, fillna_value=0)\n",
        "\n",
        "  # Receive the intercept for our zero solution (w_0) and our slope coefficients (w)\n",
        "  # by applying train linear regression function on our x and y train sets\n",
        "  # here we train the model:\n",
        "  w_0, w = train_linear_regression(X_null_train, y_train)\n",
        "\n",
        "  # Prepare x for the validation set and calculate the y prediction on the validation set\n",
        "\n",
        "  # Fill the missing values with the zero for the validation dataset\n",
        "  X_null_val = prepare_X(df_val, fillna_value=0)\n",
        "\n",
        "  # Calculate the y prediction on the validation dataset\n",
        "  # basically just apllying linear regression equation:  \n",
        "  # the intercept  plus our validation dataset dot our slop coefficient \n",
        "  y_null_reg_val = w_0 + X_null_val.dot(w)\n",
        "\n",
        "  # With zero use the numpy round function calculate RMSE on the validation dataset\n",
        "  # Round the RMSE scores to 2 decimal digits using round(score, 2)\n",
        "  rmse_val = np.round(rmse(y_val, y_null_reg_val),2)\n",
        "\n",
        "  # Add the RMSE value to the list of values\n",
        "  rmse_list.append(rmse_val)\n",
        "\n",
        "  # Print the results using the regularization parameter, bias term and the RMSE value\n",
        "  print(r, w_0, rmse_val)\n",
        "\n",
        "  # bellow we have first the seed value, then the intercept value and at the RMSE validation:"
      ],
      "metadata": {
        "id": "bH36QO4jXaOs",
        "colab": {
          "base_uri": "https://localhost:8080/"
        },
        "outputId": "eccf0081-d40e-40fc-b3e8-e511ae5cefb1"
      },
      "execution_count": 91,
      "outputs": [
        {
          "output_type": "stream",
          "name": "stdout",
          "text": [
            "0 -11.686975241808469 0.33\n",
            "1 -11.686975241808469 0.33\n",
            "2 -11.686975241808469 0.33\n",
            "3 -11.686975241808469 0.33\n",
            "4 -11.686975241808469 0.33\n",
            "5 -11.686975241808469 0.33\n",
            "6 -11.686975241808469 0.33\n",
            "7 -11.686975241808469 0.33\n",
            "8 -11.686975241808469 0.33\n",
            "9 -11.686975241808469 0.33\n"
          ]
        }
      ]
    },
    {
      "cell_type": "code",
      "source": [
        "# Print the RMSE list\n",
        "rmse_list"
      ],
      "metadata": {
        "colab": {
          "base_uri": "https://localhost:8080/"
        },
        "id": "QPMyshbIXMXs",
        "outputId": "830554e3-472b-4cb8-ff80-67a4d7a8504d"
      },
      "execution_count": 92,
      "outputs": [
        {
          "output_type": "execute_result",
          "data": {
            "text/plain": [
              "[0.33, 0.33, 0.33, 0.33, 0.33, 0.33, 0.33, 0.33, 0.33, 0.33]"
            ]
          },
          "metadata": {},
          "execution_count": 92
        }
      ]
    },
    {
      "cell_type": "code",
      "source": [
        "# What's the standard deviation of all the scores? To compute the standard deviation, use np.std.\n",
        "# Round the result to 3 decimal digits (round(std, 3))\n",
        "\n",
        "# Calculate the standard deviation of all the scores\n",
        "np.round(np.std(rmse_list),3)"
      ],
      "metadata": {
        "colab": {
          "base_uri": "https://localhost:8080/"
        },
        "id": "tPoAmkzVXWyl",
        "outputId": "f85ada8a-6c08-4e4e-df16-d120303f3afc"
      },
      "execution_count": 93,
      "outputs": [
        {
          "output_type": "execute_result",
          "data": {
            "text/plain": [
              "0.0"
            ]
          },
          "metadata": {},
          "execution_count": 93
        }
      ]
    },
    {
      "cell_type": "code",
      "source": [],
      "metadata": {
        "id": "vyMyabV_X1Wr"
      },
      "execution_count": null,
      "outputs": []
    }
  ]
}